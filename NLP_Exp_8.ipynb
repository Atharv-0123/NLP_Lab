{
  "nbformat": 4,
  "nbformat_minor": 0,
  "metadata": {
    "colab": {
      "provenance": []
    },
    "kernelspec": {
      "name": "python3",
      "display_name": "Python 3"
    },
    "language_info": {
      "name": "python"
    }
  },
  "cells": [
    {
      "cell_type": "code",
      "execution_count": 1,
      "metadata": {
        "colab": {
          "base_uri": "https://localhost:8080/"
        },
        "id": "1SlZqneBPzj2",
        "outputId": "4b384808-b270-4b2b-bc55-ff3baa6566cd"
      },
      "outputs": [
        {
          "output_type": "stream",
          "name": "stderr",
          "text": [
            "[nltk_data] Downloading package averaged_perceptron_tagger to\n",
            "[nltk_data]     /root/nltk_data...\n",
            "[nltk_data]   Unzipping taggers/averaged_perceptron_tagger.zip.\n",
            "[nltk_data] Downloading package maxent_ne_chunker to\n",
            "[nltk_data]     /root/nltk_data...\n",
            "[nltk_data]   Unzipping chunkers/maxent_ne_chunker.zip.\n",
            "[nltk_data] Downloading package words to /root/nltk_data...\n",
            "[nltk_data]   Unzipping corpora/words.zip.\n",
            "[nltk_data] Downloading package punkt to /root/nltk_data...\n",
            "[nltk_data]   Unzipping tokenizers/punkt.zip.\n"
          ]
        },
        {
          "output_type": "execute_result",
          "data": {
            "text/plain": [
              "True"
            ]
          },
          "metadata": {},
          "execution_count": 1
        }
      ],
      "source": [
        "import nltk\n",
        "nltk.download('averaged_perceptron_tagger')\n",
        "nltk.download('maxent_ne_chunker')\n",
        "nltk.download('words')\n",
        "nltk.download('punkt')"
      ]
    },
    {
      "cell_type": "code",
      "source": [
        "def named_entity_recognition(text):\n",
        "    # Tokenize the text\n",
        "    tokenized_text = nltk.word_tokenize(text)\n",
        "\n",
        "    # Perform POS tagging\n",
        "    pos_tags = nltk.pos_tag(tokenized_text)\n",
        "\n",
        "    # Perform Named Entity Recognition\n",
        "    named_entities = nltk.ne_chunk(pos_tags)\n",
        "\n",
        "    return named_entities\n"
      ],
      "metadata": {
        "id": "Pa9h118RQKwI"
      },
      "execution_count": 2,
      "outputs": []
    },
    {
      "cell_type": "code",
      "source": [
        "text = \"My name is Atharva. I am a final year student studying in VESIT,Mumbai.\"\n",
        "print(named_entity_recognition(text))\n"
      ],
      "metadata": {
        "colab": {
          "base_uri": "https://localhost:8080/"
        },
        "id": "Ij8XYF_QQNKy",
        "outputId": "5644bcde-f811-4fb7-d2ef-da263ba86bdf"
      },
      "execution_count": 3,
      "outputs": [
        {
          "output_type": "stream",
          "name": "stdout",
          "text": [
            "(S\n",
            "  My/PRP$\n",
            "  name/NN\n",
            "  is/VBZ\n",
            "  (PERSON Atharva/NNP)\n",
            "  ./.\n",
            "  I/PRP\n",
            "  am/VBP\n",
            "  a/DT\n",
            "  final/JJ\n",
            "  year/NN\n",
            "  student/NN\n",
            "  studying/VBG\n",
            "  in/IN\n",
            "  (GPE VESIT/NNP)\n",
            "  ,/,\n",
            "  (GPE Mumbai/NNP)\n",
            "  ./.)\n"
          ]
        }
      ]
    },
    {
      "cell_type": "markdown",
      "source": [
        "We can see that the program has identified the named enitities - Atharva, VESIT, Mumbai"
      ],
      "metadata": {
        "id": "U30D8mtaQgOY"
      }
    },
    {
      "cell_type": "code",
      "source": [],
      "metadata": {
        "id": "3WBauXyFQoRC"
      },
      "execution_count": null,
      "outputs": []
    }
  ]
}